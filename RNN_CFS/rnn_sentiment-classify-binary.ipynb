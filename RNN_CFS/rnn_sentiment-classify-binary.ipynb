{
 "cells": [
  {
   "cell_type": "code",
   "execution_count": 1,
   "metadata": {},
   "outputs": [
    {
     "ename": "FileNotFoundError",
     "evalue": "[Errno 2] No such file or directory: '../processed_labels_no_criteria_binary_filtered.csv'",
     "output_type": "error",
     "traceback": [
      "\u001b[1;31m---------------------------------------------------------------------------\u001b[0m",
      "\u001b[1;31mFileNotFoundError\u001b[0m                         Traceback (most recent call last)",
      "\u001b[1;32m<ipython-input-1-950b75a6a5ec>\u001b[0m in \u001b[0;36m<module>\u001b[1;34m()\u001b[0m\n\u001b[0;32m     28\u001b[0m \u001b[1;33m\u001b[0m\u001b[0m\n\u001b[0;32m     29\u001b[0m \u001b[0msentiment_dict\u001b[0m \u001b[1;33m=\u001b[0m \u001b[1;33m{\u001b[0m\u001b[1;33m}\u001b[0m\u001b[1;33m\u001b[0m\u001b[0m\n\u001b[1;32m---> 30\u001b[1;33m \u001b[1;32mwith\u001b[0m \u001b[0mopen\u001b[0m\u001b[1;33m(\u001b[0m\u001b[1;34m'../'\u001b[0m \u001b[1;33m+\u001b[0m \u001b[0mcsv_filename\u001b[0m\u001b[1;33m,\u001b[0m \u001b[0mnewline\u001b[0m\u001b[1;33m=\u001b[0m\u001b[1;34m''\u001b[0m\u001b[1;33m)\u001b[0m \u001b[1;32mas\u001b[0m \u001b[0mcsvfile\u001b[0m\u001b[1;33m:\u001b[0m\u001b[1;33m\u001b[0m\u001b[0m\n\u001b[0m\u001b[0;32m     31\u001b[0m     \u001b[0mreader\u001b[0m \u001b[1;33m=\u001b[0m \u001b[0mcsv\u001b[0m\u001b[1;33m.\u001b[0m\u001b[0mreader\u001b[0m\u001b[1;33m(\u001b[0m\u001b[0mcsvfile\u001b[0m\u001b[1;33m,\u001b[0m \u001b[0mdelimiter\u001b[0m\u001b[1;33m=\u001b[0m\u001b[1;34m','\u001b[0m\u001b[1;33m)\u001b[0m\u001b[1;33m\u001b[0m\u001b[0m\n\u001b[0;32m     32\u001b[0m     \u001b[1;32mfor\u001b[0m \u001b[0mrow\u001b[0m \u001b[1;32min\u001b[0m \u001b[0mreader\u001b[0m\u001b[1;33m:\u001b[0m\u001b[1;33m\u001b[0m\u001b[0m\n",
      "\u001b[1;31mFileNotFoundError\u001b[0m: [Errno 2] No such file or directory: '../processed_labels_no_criteria_binary_filtered.csv'"
     ]
    }
   ],
   "source": [
    "\"\"\"\n",
    "This block generates the train/test dataset.\n",
    "\n",
    "[seg_id, text, sentiment] # text is replace with vocabulary ids\n",
    "\n",
    "TODO:\n",
    "embedding_lookup?\n",
    "\"\"\"\n",
    "\n",
    "import os\n",
    "import csv\n",
    "import pickle\n",
    "\n",
    "train_ratio = 0.8\n",
    "train_data_pkl = 'train_data.pkl'\n",
    "test_data_pkl = 'test_data.pkl'\n",
    "\n",
    "\n",
    "files = os.listdir('./Segmented/')\n",
    "train_files = [f.split('.')[0] for f in files[:int(len(files) * train_ratio)]]\n",
    "test_files = [f.split('.')[0] for f in files[int(len(files) * train_ratio):]]\n",
    "\n",
    "\n",
    "\n",
    "csv_filename = \"processed_labels_no_criteria_binary_filtered.csv\"\n",
    "\n",
    "\n",
    "\n",
    "sentiment_dict = {}\n",
    "with open('../' + csv_filename, newline='') as csvfile:\n",
    "    reader = csv.reader(csvfile, delimiter=',')\n",
    "    for row in reader:\n",
    "        sentiment_dict[row[0]] = int(row[1])\n",
    "        \n",
    "\n",
    "voc_ids = {}\n",
    "voc_ids_rev = {}\n",
    "\n",
    "with open('./LanguageVocabulary.txt', 'r') as f:\n",
    "    for row in f:\n",
    "        row = row.split(' ')\n",
    "        if len(row) < 3:\n",
    "            continue\n",
    "        k = row[0]\n",
    "        v = row[1]\n",
    "        voc_ids[v] = k\n",
    "        voc_ids_rev[k] = v\n",
    "        \n",
    "        \n",
    "train_data = []\n",
    "test_data = []\n",
    "\n",
    "for f in train_files:\n",
    "    with open('./Segmented/' + f + '.annotprocessed', 'r') as s:\n",
    "        for row in s:\n",
    "            row = row.split('_DELIM_')\n",
    "            seg_id = f + '_' + row[0]\n",
    "            text = [voc_ids[w] for w in row[1].rstrip().split(' ') if w]\n",
    "            train_data.append([seg_id, text, sentiment_dict[seg_id]])\n",
    "            \n",
    "for f in test_files:\n",
    "    with open('./Segmented/' + f + '.annotprocessed', 'r') as s:\n",
    "        for row in s:\n",
    "            row = row.split('_DELIM_')\n",
    "            seg_id = f + '_' + row[0]\n",
    "            text = [voc_ids[w] for w in row[1].rstrip().split(' ') if w]\n",
    "            test_data.append([seg_id, text, sentiment_dict[seg_id]])\n",
    "\n",
    "            \n",
    "with open(train_data_pkl, 'wb') as f:\n",
    "    pickle.dump(train_data, f)\n",
    "    \n",
    "with open(test_data_pkl, 'wb') as f:\n",
    "    pickle.dump(test_data, f)"
   ]
  },
  {
   "cell_type": "code",
   "execution_count": 2,
   "metadata": {
    "collapsed": true
   },
   "outputs": [],
   "source": [
    "\"\"\"\n",
    "Defines helper functions for getting batches\n",
    "\n",
    "labels are in one-hot format\n",
    "\n",
    "suitable for binary or three classes\n",
    "just change numClasses\n",
    "\"\"\"\n",
    "\n",
    "import numpy as np\n",
    "from random import randint\n",
    "\n",
    "\n",
    "batchSize = 256     # 64\n",
    "maxSeqLength = 20\n",
    "wordVecsLast = 3015\n",
    "numClasses = 2\n",
    "\n",
    "# load pickle\n",
    "\n",
    "def getTrainBatch():\n",
    "    labels = np.zeros([batchSize, numClasses])\n",
    "    arr = np.zeros([batchSize, maxSeqLength])\n",
    "    for i in range(batchSize):\n",
    "        num = randint(0, len(train_data) - 1)\n",
    "        labels[i][train_data[num][2]] = 1\n",
    "        data = train_data[num][1]\n",
    "        if len(data) >= maxSeqLength:\n",
    "            arr[i] = [k if int(k) <= wordVecsLast else 0 for k in data[:maxSeqLength]]\n",
    "        else:\n",
    "            arr[i] = [k if int(k) <= wordVecsLast else 0 for k in data] + [0] * (maxSeqLength - len(data))\n",
    "    return arr, labels\n",
    "\n",
    "\n",
    "def getTestBatch():\n",
    "    labels = np.zeros([batchSize, numClasses])\n",
    "    arr = np.zeros([batchSize, maxSeqLength])\n",
    "    for i in range(batchSize):\n",
    "        num = randint(0, len(test_data) - 1)\n",
    "        labels[i][test_data[num][2]] = 1\n",
    "        data = test_data[num][1]\n",
    "        if len(data) >= maxSeqLength:\n",
    "            arr[i] = [k if int(k) <= wordVecsLast else 0 for k in data[:maxSeqLength]]\n",
    "        else:\n",
    "            arr[i] = [k if int(k) <= wordVecsLast else 0 for k in data] + [0] * (maxSeqLength - len(data))\n",
    "    return arr, labels\n",
    "\n",
    "# getTrainBatch()[1].shape"
   ]
  },
  {
   "cell_type": "code",
   "execution_count": 3,
   "metadata": {
    "collapsed": true
   },
   "outputs": [],
   "source": [
    "\"\"\"\n",
    "RNN model\n",
    "\"\"\"\n",
    "\n",
    "import pickle\n",
    "import numpy\n",
    "\n",
    "# batchSize = 64      # already defined\n",
    "# maxSeqLength = 20\n",
    "lstmUnits = 64\n",
    "# numClasses = 2\n",
    "iterations = 100001   # 100001\n",
    "\n",
    "wordVectors = None\n",
    "with open('./glove_300_mosi.pkl', 'rb') as f:\n",
    "    wordVectors = pickle.load(f, encoding='latin1').astype('float32')    # important encoding, type casting\n",
    "\n",
    "numDimensions = wordVectors.shape[1]"
   ]
  },
  {
   "cell_type": "code",
   "execution_count": 4,
   "metadata": {
    "collapsed": true
   },
   "outputs": [],
   "source": [
    "import tensorflow as tf\n",
    "\n",
    "tf.reset_default_graph()\n",
    "\n",
    "keep_prob = tf.placeholder(tf.float32)        # keep_prob=1.0 when testing\n",
    "\n",
    "labels = tf.placeholder(tf.float32, [batchSize, numClasses])\n",
    "input_data = tf.placeholder(tf.int32, [batchSize, maxSeqLength])\n",
    "\n",
    "\n",
    "data = tf.Variable(tf.zeros([batchSize, maxSeqLength, numDimensions]), dtype=tf.float32)\n",
    "data = tf.nn.embedding_lookup(wordVectors,input_data)\n",
    "\n",
    "\n",
    "lstmCell = tf.contrib.rnn.BasicLSTMCell(lstmUnits)\n",
    "lstmCell = tf.contrib.rnn.DropoutWrapper(cell=lstmCell, output_keep_prob=keep_prob)\n",
    "value, _ = tf.nn.dynamic_rnn(lstmCell, data, dtype=tf.float32)\n",
    "\n",
    "\n",
    "weight = tf.Variable(tf.truncated_normal([lstmUnits, numClasses]))\n",
    "bias = tf.Variable(tf.constant(0.1, shape=[numClasses]))\n",
    "value = tf.transpose(value, [1, 0, 2])\n",
    "last = tf.gather(value, int(value.get_shape()[0]) - 1)\n",
    "prediction = (tf.matmul(last, weight) + bias)\n",
    "\n",
    "\n",
    "# correctPred = tf.equal(tf.argmax(prediction,1), tf.argmax(labels,1))\n",
    "correctPred = tf.less(tf.abs(tf.subtract(tf.argmax(prediction,1), tf.argmax(labels,1))), 3)\n",
    "accuracy = tf.reduce_mean(tf.cast(correctPred, tf.float32))\n",
    "\n",
    "loss = tf.reduce_mean(tf.nn.softmax_cross_entropy_with_logits(logits=prediction, labels=labels))\n",
    "optimizer = tf.train.AdamOptimizer().minimize(loss)"
   ]
  },
  {
   "cell_type": "code",
   "execution_count": 5,
   "metadata": {},
   "outputs": [
    {
     "ename": "NameError",
     "evalue": "name 'train_data' is not defined",
     "output_type": "error",
     "traceback": [
      "\u001b[1;31m---------------------------------------------------------------------------\u001b[0m",
      "\u001b[1;31mNameError\u001b[0m                                 Traceback (most recent call last)",
      "\u001b[1;32m<ipython-input-5-18ad901da0c8>\u001b[0m in \u001b[0;36m<module>\u001b[1;34m()\u001b[0m\n\u001b[0;32m      4\u001b[0m \u001b[1;33m\u001b[0m\u001b[0m\n\u001b[0;32m      5\u001b[0m \u001b[1;32mfor\u001b[0m \u001b[0mi\u001b[0m \u001b[1;32min\u001b[0m \u001b[0mrange\u001b[0m\u001b[1;33m(\u001b[0m\u001b[0miterations\u001b[0m\u001b[1;33m)\u001b[0m\u001b[1;33m:\u001b[0m\u001b[1;33m\u001b[0m\u001b[0m\n\u001b[1;32m----> 6\u001b[1;33m     \u001b[0mnextBatch\u001b[0m\u001b[1;33m,\u001b[0m \u001b[0mnextBatchLabels\u001b[0m \u001b[1;33m=\u001b[0m \u001b[0mgetTrainBatch\u001b[0m\u001b[1;33m(\u001b[0m\u001b[1;33m)\u001b[0m\u001b[1;33m;\u001b[0m\u001b[1;33m\u001b[0m\u001b[0m\n\u001b[0m\u001b[0;32m      7\u001b[0m     \u001b[0mlos\u001b[0m\u001b[1;33m,\u001b[0m \u001b[0macc\u001b[0m\u001b[1;33m,\u001b[0m \u001b[0m_\u001b[0m \u001b[1;33m=\u001b[0m \u001b[0msess\u001b[0m\u001b[1;33m.\u001b[0m\u001b[0mrun\u001b[0m\u001b[1;33m(\u001b[0m\u001b[1;33m[\u001b[0m\u001b[0mloss\u001b[0m\u001b[1;33m,\u001b[0m \u001b[0maccuracy\u001b[0m\u001b[1;33m,\u001b[0m \u001b[0moptimizer\u001b[0m\u001b[1;33m]\u001b[0m\u001b[1;33m,\u001b[0m \u001b[1;33m{\u001b[0m\u001b[0minput_data\u001b[0m\u001b[1;33m:\u001b[0m \u001b[0mnextBatch\u001b[0m\u001b[1;33m,\u001b[0m \u001b[0mlabels\u001b[0m\u001b[1;33m:\u001b[0m \u001b[0mnextBatchLabels\u001b[0m\u001b[1;33m,\u001b[0m \u001b[0mkeep_prob\u001b[0m\u001b[1;33m:\u001b[0m \u001b[1;36m0.6\u001b[0m\u001b[1;33m}\u001b[0m\u001b[1;33m)\u001b[0m\u001b[1;33m\u001b[0m\u001b[0m\n\u001b[0;32m      8\u001b[0m \u001b[1;33m\u001b[0m\u001b[0m\n",
      "\u001b[1;32m<ipython-input-2-843aeede5b63>\u001b[0m in \u001b[0;36mgetTrainBatch\u001b[1;34m()\u001b[0m\n\u001b[0;32m     23\u001b[0m     \u001b[0marr\u001b[0m \u001b[1;33m=\u001b[0m \u001b[0mnp\u001b[0m\u001b[1;33m.\u001b[0m\u001b[0mzeros\u001b[0m\u001b[1;33m(\u001b[0m\u001b[1;33m[\u001b[0m\u001b[0mbatchSize\u001b[0m\u001b[1;33m,\u001b[0m \u001b[0mmaxSeqLength\u001b[0m\u001b[1;33m]\u001b[0m\u001b[1;33m)\u001b[0m\u001b[1;33m\u001b[0m\u001b[0m\n\u001b[0;32m     24\u001b[0m     \u001b[1;32mfor\u001b[0m \u001b[0mi\u001b[0m \u001b[1;32min\u001b[0m \u001b[0mrange\u001b[0m\u001b[1;33m(\u001b[0m\u001b[0mbatchSize\u001b[0m\u001b[1;33m)\u001b[0m\u001b[1;33m:\u001b[0m\u001b[1;33m\u001b[0m\u001b[0m\n\u001b[1;32m---> 25\u001b[1;33m         \u001b[0mnum\u001b[0m \u001b[1;33m=\u001b[0m \u001b[0mrandint\u001b[0m\u001b[1;33m(\u001b[0m\u001b[1;36m0\u001b[0m\u001b[1;33m,\u001b[0m \u001b[0mlen\u001b[0m\u001b[1;33m(\u001b[0m\u001b[0mtrain_data\u001b[0m\u001b[1;33m)\u001b[0m \u001b[1;33m-\u001b[0m \u001b[1;36m1\u001b[0m\u001b[1;33m)\u001b[0m\u001b[1;33m\u001b[0m\u001b[0m\n\u001b[0m\u001b[0;32m     26\u001b[0m         \u001b[0mlabels\u001b[0m\u001b[1;33m[\u001b[0m\u001b[0mi\u001b[0m\u001b[1;33m]\u001b[0m\u001b[1;33m[\u001b[0m\u001b[0mtrain_data\u001b[0m\u001b[1;33m[\u001b[0m\u001b[0mnum\u001b[0m\u001b[1;33m]\u001b[0m\u001b[1;33m[\u001b[0m\u001b[1;36m2\u001b[0m\u001b[1;33m]\u001b[0m\u001b[1;33m]\u001b[0m \u001b[1;33m=\u001b[0m \u001b[1;36m1\u001b[0m\u001b[1;33m\u001b[0m\u001b[0m\n\u001b[0;32m     27\u001b[0m         \u001b[0mdata\u001b[0m \u001b[1;33m=\u001b[0m \u001b[0mtrain_data\u001b[0m\u001b[1;33m[\u001b[0m\u001b[0mnum\u001b[0m\u001b[1;33m]\u001b[0m\u001b[1;33m[\u001b[0m\u001b[1;36m1\u001b[0m\u001b[1;33m]\u001b[0m\u001b[1;33m\u001b[0m\u001b[0m\n",
      "\u001b[1;31mNameError\u001b[0m: name 'train_data' is not defined"
     ]
    }
   ],
   "source": [
    "# sess = tf.Session()\n",
    "# saver = tf.train.Saver()\n",
    "# sess.run(tf.global_variables_initializer())\n",
    "\n",
    "for i in range(iterations):\n",
    "    nextBatch, nextBatchLabels = getTrainBatch();\n",
    "    los, acc, _ = sess.run([loss, accuracy, optimizer], {input_data: nextBatch, labels: nextBatchLabels, keep_prob: 0.6})\n",
    "    \n",
    "    \n",
    "    if (i % 5000 == 0):\n",
    "        print('Train', i, ':', los, ',', acc)\n",
    "        \n",
    "    if (i % 10000 == 0):\n",
    "        nextBatch, nextBatchLabels = getTestBatch();\n",
    "        los, acc, _ = sess.run([loss, accuracy, optimizer], {input_data: nextBatch, labels: nextBatchLabels, keep_prob: 1.0})\n",
    "        print('Test', i, ':', los, ',', acc)\n",
    "        \n",
    "    #Write summary to Tensorboard\n",
    "#     if (i % 50 == 0):\n",
    "#         summary = sess.run(merged, {input_data: nextBatch, labels: nextBatchLabels})\n",
    "#         writer.add_summary(summary, i)\n",
    "\n",
    "#     #Save the network every 10,000 training iterations\n",
    "#     if (i % 10000 == 0 and i != 0):\n",
    "#         save_path = saver.save(sess, \"models/pretrained_lstm.ckpt\", global_step=i)\n",
    "#         print(\"saved to %s\" % save_path)\n",
    "# writer.close()"
   ]
  },
  {
   "cell_type": "code",
   "execution_count": 28,
   "metadata": {},
   "outputs": [
    {
     "name": "stdout",
     "output_type": "stream",
     "text": [
      "0.71484375\n",
      "     label  pred\n",
      "0        2     2\n",
      "1        1     4\n",
      "2        2     2\n",
      "3        2     2\n",
      "4        4     3\n",
      "5        1     1\n",
      "6        4     4\n",
      "7        1     1\n",
      "8        5     5\n",
      "9        4     4\n",
      "10       5     5\n",
      "11       5     5\n",
      "12       4     4\n",
      "13       5     5\n",
      "14       4     4\n",
      "15       5     4\n",
      "16       5     5\n",
      "17       1     1\n",
      "18       3     5\n",
      "19       4     4\n",
      "20       4     4\n",
      "21       4     4\n",
      "22       4     4\n",
      "23       1     1\n",
      "24       2     2\n",
      "25       0     1\n",
      "26       5     2\n",
      "27       4     2\n",
      "28       4     6\n",
      "29       4     4\n",
      "..     ...   ...\n",
      "226      1     1\n",
      "227      3     3\n",
      "228      5     5\n",
      "229      3     3\n",
      "230      2     2\n",
      "231      1     4\n",
      "232      3     3\n",
      "233      4     4\n",
      "234      3     5\n",
      "235      3     3\n",
      "236      1     1\n",
      "237      1     1\n",
      "238      0     4\n",
      "239      3     4\n",
      "240      5     5\n",
      "241      5     5\n",
      "242      1     1\n",
      "243      3     5\n",
      "244      3     3\n",
      "245      2     2\n",
      "246      3     2\n",
      "247      4     4\n",
      "248      2     2\n",
      "249      3     3\n",
      "250      4     5\n",
      "251      3     1\n",
      "252      6     1\n",
      "253      1     2\n",
      "254      3     3\n",
      "255      5     5\n",
      "\n",
      "[256 rows x 2 columns]\n"
     ]
    }
   ],
   "source": [
    "import pandas as pd\n",
    "\n",
    "nextBatch, nextBatchLabels = getTestBatch();\n",
    "pred, _ = sess.run([prediction, optimizer], {input_data: nextBatch, labels: nextBatchLabels, keep_prob: 1.0})\n",
    "print(np.mean(np.argmax(nextBatchLabels, 1) == np.argmax(pred, 1)))\n",
    "print(pd.DataFrame({\n",
    "    'label' : np.argmax(nextBatchLabels, 1),\n",
    "    'pred'  : np.argmax(pred, 1)\n",
    "}))"
   ]
  },
  {
   "cell_type": "code",
   "execution_count": null,
   "metadata": {
    "collapsed": true
   },
   "outputs": [],
   "source": []
  },
  {
   "cell_type": "code",
   "execution_count": null,
   "metadata": {
    "collapsed": true
   },
   "outputs": [],
   "source": []
  },
  {
   "cell_type": "code",
   "execution_count": null,
   "metadata": {
    "collapsed": true
   },
   "outputs": [],
   "source": []
  },
  {
   "cell_type": "code",
   "execution_count": null,
   "metadata": {
    "collapsed": true
   },
   "outputs": [],
   "source": []
  },
  {
   "cell_type": "code",
   "execution_count": null,
   "metadata": {
    "collapsed": true
   },
   "outputs": [],
   "source": []
  },
  {
   "cell_type": "code",
   "execution_count": null,
   "metadata": {
    "collapsed": true
   },
   "outputs": [],
   "source": []
  },
  {
   "cell_type": "code",
   "execution_count": null,
   "metadata": {
    "collapsed": true
   },
   "outputs": [],
   "source": [
    "import tensorflow as tf\n",
    "\n",
    "tf.reset_default_graph()\n",
    "\n",
    "keep_prob = tf.placeholder(tf.float32)        # 1.0 when testing\n",
    "\n",
    "labels = tf.placeholder(tf.float32, [batchSize, numClasses])\n",
    "input_data = tf.placeholder(tf.int32, [batchSize, maxSeqLength])\n",
    "\n",
    "\n",
    "data = tf.Variable(tf.zeros([batchSize, maxSeqLength, numDimensions]), dtype=tf.float32)\n",
    "data = tf.nn.embedding_lookup(wordVectors,input_data)\n",
    "\n",
    "\n",
    "lstmCell = tf.contrib.rnn.BasicLSTMCell(lstmUnits)\n",
    "lstmCell = tf.contrib.rnn.DropoutWrapper(cell=lstmCell, output_keep_prob=keep_prob)\n",
    "value, _ = tf.nn.dynamic_rnn(lstmCell, data, dtype=tf.float32)\n",
    "\n",
    "\n",
    "weight = tf.Variable(tf.truncated_normal([lstmUnits, numClasses]))\n",
    "bias = tf.Variable(tf.constant(0.1, shape=[numClasses]))\n",
    "value = tf.transpose(value, [1, 0, 2])\n",
    "last = tf.gather(value, int(value.get_shape()[0]) - 1)\n",
    "prediction = (tf.matmul(last, weight) + bias)\n",
    "\n",
    "\n",
    "correctPred = tf.equal(tf.argmax(prediction,1), tf.argmax(labels,1))\n",
    "accuracy = tf.reduce_mean(tf.cast(correctPred, tf.float32))\n",
    "\n",
    "loss = tf.reduce_mean(tf.nn.softmax_cross_entropy_with_logits(logits=prediction, labels=labels))\n",
    "optimizer = tf.train.AdamOptimizer().minimize(loss)"
   ]
  },
  {
   "cell_type": "code",
   "execution_count": null,
   "metadata": {
    "collapsed": true
   },
   "outputs": [],
   "source": []
  },
  {
   "cell_type": "code",
   "execution_count": null,
   "metadata": {
    "collapsed": true
   },
   "outputs": [],
   "source": []
  },
  {
   "cell_type": "code",
   "execution_count": null,
   "metadata": {
    "collapsed": true
   },
   "outputs": [],
   "source": []
  }
 ],
 "metadata": {
  "kernelspec": {
   "display_name": "Python 3",
   "language": "python",
   "name": "python3"
  },
  "language_info": {
   "codemirror_mode": {
    "name": "ipython",
    "version": 3
   },
   "file_extension": ".py",
   "mimetype": "text/x-python",
   "name": "python",
   "nbconvert_exporter": "python",
   "pygments_lexer": "ipython3",
   "version": "3.6.2"
  }
 },
 "nbformat": 4,
 "nbformat_minor": 2
}
