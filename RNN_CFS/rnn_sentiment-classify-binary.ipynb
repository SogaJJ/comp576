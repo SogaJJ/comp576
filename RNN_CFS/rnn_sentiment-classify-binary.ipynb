{
 "cells": [
  {
   "cell_type": "code",
   "execution_count": 22,
   "metadata": {
    "collapsed": true
   },
   "outputs": [],
   "source": [
    "\"\"\"\n",
    "This block generates the train/test dataset.\n",
    "\n",
    "[seg_id, text, sentiment] # text is replace with vocabulary ids\n",
    "\n",
    "TODO:\n",
    "embedding_lookup?\n",
    "\"\"\"\n",
    "\n",
    "import os\n",
    "import csv\n",
    "import pickle\n",
    "\n",
    "train_ratio = 0.8\n",
    "train_data_pkl = 'train_data.pkl'\n",
    "test_data_pkl = 'test_data.pkl'\n",
    "\n",
    "\n",
    "files = os.listdir('./Segmented/')\n",
    "train_files = [f.split('.')[0] for f in files[:int(len(files) * train_ratio)]]\n",
    "test_files = [f.split('.')[0] for f in files[int(len(files) * train_ratio):]]\n",
    "\n",
    "\n",
    "\n",
    "csv_filename = \"processed_labels_no_criteria_binary.csv\"\n",
    "csv_filename = \"processed_labels_no_criteria_three_class.csv\"\n",
    "csv_filename = \"processed_labels_no_criteria.csv\"\n",
    "\n",
    "\n",
    "\n",
    "sentiment_dict = {}\n",
    "with open('../' + csv_filename, newline='') as csvfile:\n",
    "    reader = csv.reader(csvfile, delimiter=',')\n",
    "    for row in reader:\n",
    "        sentiment_dict[row[0]] = int(row[1])\n",
    "        \n",
    "\n",
    "voc_ids = {}\n",
    "voc_ids_rev = {}\n",
    "\n",
    "with open('./LanguageVocabulary.txt', 'r') as f:\n",
    "    for row in f:\n",
    "        row = row.split(' ')\n",
    "        if len(row) < 3:\n",
    "            continue\n",
    "        k = row[0]\n",
    "        v = row[1]\n",
    "        voc_ids[v] = k\n",
    "        voc_ids_rev[k] = v\n",
    "        \n",
    "        \n",
    "train_data = []\n",
    "test_data = []\n",
    "\n",
    "for f in train_files:\n",
    "    with open('./Segmented/' + f + '.annotprocessed', 'r') as s:\n",
    "        for row in s:\n",
    "            row = row.split('_DELIM_')\n",
    "            seg_id = f + '_' + row[0]\n",
    "            \n",
    "            if seg_id not in sentiment_dict:    # some are filtered\n",
    "                continue\n",
    "                \n",
    "            text = [voc_ids[w] for w in row[1].rstrip().split(' ') if w]\n",
    "            train_data.append([seg_id, text, sentiment_dict[seg_id]])\n",
    "            \n",
    "for f in test_files:\n",
    "    with open('./Segmented/' + f + '.annotprocessed', 'r') as s:\n",
    "        for row in s:\n",
    "            row = row.split('_DELIM_')\n",
    "            seg_id = f + '_' + row[0]\n",
    "            \n",
    "            if seg_id not in sentiment_dict:    # some are filtered\n",
    "                continue\n",
    "                \n",
    "            text = [voc_ids[w] for w in row[1].rstrip().split(' ') if w]\n",
    "            test_data.append([seg_id, text, sentiment_dict[seg_id]])\n",
    "\n",
    "            \n",
    "with open(train_data_pkl, 'wb') as f:\n",
    "    pickle.dump(train_data, f)\n",
    "    \n",
    "with open(test_data_pkl, 'wb') as f:\n",
    "    pickle.dump(test_data, f)"
   ]
  },
  {
   "cell_type": "code",
   "execution_count": null,
   "metadata": {
    "collapsed": true
   },
   "outputs": [],
   "source": []
  },
  {
   "cell_type": "code",
   "execution_count": 23,
   "metadata": {},
   "outputs": [
    {
     "data": {
      "image/png": "[encoded data removed]",
      "text/plain": [
       "<matplotlib.figure.Figure at 0x2460e44f748>"
      ]
     },
     "metadata": {},
     "output_type": "display_data"
    }
   ],
   "source": [
    "\"\"\"\n",
    "some plots\n",
    "\"\"\"\n",
    "\n",
    "from collections import Counter\n",
    "import matplotlib.pyplot as plt\n",
    "%matplotlib inline\n",
    "\n",
    "total_data = train_data + test_data\n",
    "\n",
    "\n",
    "\n",
    "plt.hist([len(t[1]) for t in total_data], 50)\n",
    "plt.xlabel('Sequence Length')\n",
    "plt.ylabel('Frequency')\n",
    "plt.show()"
   ]
  },
  {
   "cell_type": "code",
   "execution_count": 24,
   "metadata": {},
   "outputs": [
    {
     "data": {
      "image/png": "[encoded data removed]",
      "text/plain": [
       "<matplotlib.figure.Figure at 0x246adee7128>"
      ]
     },
     "metadata": {},
     "output_type": "display_data"
    }
   ],
   "source": [
    "\"\"\"\n",
    "use for multi-class\n",
    "\"\"\"\n",
    "\n",
    "plt.hist([t[2] for t in total_data], 50)\n",
    "plt.xlabel('Sentiment scores')\n",
    "plt.ylabel('Frequency')\n",
    "plt.show()\n"
   ]
  },
  {
   "cell_type": "code",
   "execution_count": 25,
   "metadata": {
    "collapsed": true
   },
   "outputs": [],
   "source": [
    "\"\"\"\n",
    "Defines helper functions for getting batches\n",
    "\n",
    "labels are in one-hot format\n",
    "\n",
    "suitable for binary or three classes\n",
    "just change numClasses\n",
    "\"\"\"\n",
    "\n",
    "import numpy as np\n",
    "from random import randint\n",
    "\n",
    "\n",
    "batchSize = 256     # 64\n",
    "maxSeqLength = 20\n",
    "wordVecsLast = 3015\n",
    "\n",
    "\n",
    "numClasses = 7      # 2, 3\n",
    "\n",
    "# load pickle\n",
    "\n",
    "def getTrainBatch():\n",
    "    labels = np.zeros([batchSize, numClasses])\n",
    "    arr = np.zeros([batchSize, maxSeqLength])\n",
    "    for i in range(batchSize):\n",
    "        num = randint(0, len(train_data) - 1)\n",
    "        labels[i][train_data[num][2]] = 1\n",
    "        data = train_data[num][1]\n",
    "        if len(data) >= maxSeqLength:\n",
    "            arr[i] = [k if int(k) <= wordVecsLast else 0 for k in data[:maxSeqLength]]\n",
    "        else:\n",
    "            arr[i] = [k if int(k) <= wordVecsLast else 0 for k in data] + [0] * (maxSeqLength - len(data))\n",
    "    return arr, labels\n",
    "\n",
    "\n",
    "def getTestBatch():\n",
    "    labels = np.zeros([len(test_data), numClasses])\n",
    "    arr = np.zeros([len(test_data), maxSeqLength])\n",
    "    for i in range(len(test_data)):\n",
    "        labels[i][test_data[i][2]] = 1\n",
    "        data = test_data[i][1]\n",
    "        if len(data) >= maxSeqLength:\n",
    "            arr[i] = [k if int(k) <= wordVecsLast else 0 for k in data[:maxSeqLength]]\n",
    "        else:\n",
    "            arr[i] = [k if int(k) <= wordVecsLast else 0 for k in data] + [0] * (maxSeqLength - len(data))\n",
    "    return arr, labels\n",
    "\n",
    "# getTrainBatch()[1].shape"
   ]
  },
  {
   "cell_type": "code",
   "execution_count": 26,
   "metadata": {
    "collapsed": true
   },
   "outputs": [],
   "source": [
    "\"\"\"\n",
    "RNN model\n",
    "\"\"\"\n",
    "\n",
    "import pickle\n",
    "import numpy\n",
    "\n",
    "# batchSize = 64      # already defined\n",
    "# maxSeqLength = 20\n",
    "lstmUnits = 64\n",
    "# numClasses = 2\n",
    "iterations = 100001   # 100001\n",
    "\n",
    "wordVectors = None\n",
    "with open('./glove_300_mosi.pkl', 'rb') as f:\n",
    "    wordVectors = pickle.load(f, encoding='latin1').astype('float32')    # important encoding, type casting\n",
    "\n",
    "numDimensions = wordVectors.shape[1]"
   ]
  },
  {
   "cell_type": "code",
   "execution_count": 27,
   "metadata": {},
   "outputs": [
    {
     "name": "stderr",
     "output_type": "stream",
     "text": [
      "C:\\Users\\chenf\\Anaconda3\\lib\\site-packages\\tensorflow\\python\\ops\\gradients_impl.py:93: UserWarning: Converting sparse IndexedSlices to a dense Tensor of unknown shape. This may consume a large amount of memory.\n",
      "  \"Converting sparse IndexedSlices to a dense Tensor of unknown shape. \"\n"
     ]
    }
   ],
   "source": [
    "import tensorflow as tf\n",
    "\n",
    "num_layers = 1\n",
    "\n",
    "\n",
    "tf.reset_default_graph()\n",
    "\n",
    "keep_prob = tf.placeholder(tf.float32)        # keep_prob=1.0 when testing\n",
    "\n",
    "labels = tf.placeholder(tf.float32, [None, numClasses])\n",
    "input_data = tf.placeholder(tf.int32, [None, maxSeqLength])\n",
    "\n",
    "\n",
    "# data = tf.Variable(tf.zeros([input_data.shape[0], maxSeqLength, numDimensions]), dtype=tf.float32)\n",
    "data = tf.nn.embedding_lookup(wordVectors, input_data)\n",
    "\n",
    "\n",
    "def lstm_cell():\n",
    "    lstmCell = tf.contrib.rnn.BasicLSTMCell(lstmUnits)\n",
    "    lstmCell = tf.contrib.rnn.DropoutWrapper(cell=lstmCell, output_keep_prob=keep_prob)\n",
    "    return lstmCell\n",
    "    \n",
    "lstmCell = tf.contrib.rnn.MultiRNNCell([lstm_cell() for _ in range(num_layers)])\n",
    "value, _ = tf.nn.dynamic_rnn(lstmCell, data, dtype=tf.float32)\n",
    "\n",
    "\n",
    "\n",
    "weight = tf.Variable(tf.truncated_normal([lstmUnits, numClasses]))\n",
    "bias = tf.Variable(tf.constant(0.1, shape=[numClasses]))\n",
    "value = tf.transpose(value, [1, 0, 2])\n",
    "last = tf.gather(value, int(value.get_shape()[0]) - 1)\n",
    "prediction = (tf.matmul(last, weight) + bias)\n",
    "\n",
    "\n",
    "correctPred = tf.equal(tf.argmax(prediction,1), tf.argmax(labels,1))\n",
    "# correctPred = tf.less(tf.abs(tf.subtract(tf.argmax(prediction,1), tf.argmax(labels,1))), 3)\n",
    "accuracy = tf.reduce_mean(tf.cast(correctPred, tf.float32))\n",
    "\n",
    "loss = tf.reduce_mean(tf.nn.softmax_cross_entropy_with_logits(logits=prediction, labels=labels))\n",
    "optimizer = tf.train.AdamOptimizer().minimize(loss)"
   ]
  },
  {
   "cell_type": "code",
   "execution_count": 28,
   "metadata": {},
   "outputs": [],
   "source": [
    "import datetime\n",
    "\n",
    "train_loss_sum = tf.summary.scalar('Train_Loss', loss)\n",
    "train_accu_sum = tf.summary.scalar('Train_Accuracy', accuracy)\n",
    "\n",
    "test_loss_sum = tf.summary.scalar('Test_Loss', loss)\n",
    "test_accu_sum = tf.summary.scalar('Test_Accuracy', accuracy)\n",
    "\n",
    "test_sum = tf.summary.merge([test_loss_sum, test_accu_sum])\n",
    "train_sum = tf.summary.merge([train_loss_sum, train_accu_sum])\n",
    "\n",
    "\n",
    "merged = tf.summary.merge_all()\n",
    "\n",
    "logdir = \"tensorboard/\" + datetime.datetime.now().strftime('%Y%m%d-%H%M') + '/'\n"
   ]
  },
  {
   "cell_type": "code",
   "execution_count": 29,
   "metadata": {
    "scrolled": false
   },
   "outputs": [
    {
     "name": "stdout",
     "output_type": "stream",
     "text": [
      "Train 0 : 2.19182 , 0.160156\n",
      "Test 0 : 2.01986 , 0.218605\n",
      "Train 5000 : 0.000455325 , 1.0\n",
      "Train 10000 : 0.0197982 , 1.0\n",
      "Test 10000 : 4.85799 , 0.25814\n",
      "saved to models/processed_labels_no_criteria.csv.ckpt-10000\n",
      "Train 15000 : 8.51455e-05 , 1.0\n",
      "Train 20000 : 7.84965e-06 , 1.0\n",
      "Test 20000 : 8.84445 , 0.3\n",
      "saved to models/processed_labels_no_criteria.csv.ckpt-20000\n",
      "Train 25000 : 5.8953e-06 , 1.0\n",
      "Train 30000 : 1.11981e-05 , 1.0\n",
      "Test 30000 : 6.66289 , 0.439535\n",
      "saved to models/processed_labels_no_criteria.csv.ckpt-30000\n",
      "Train 35000 : 0.00011949 , 1.0\n",
      "Train 40000 : 5.44836e-05 , 1.0\n",
      "Test 40000 : 5.0998 , 0.495349\n",
      "saved to models/processed_labels_no_criteria.csv.ckpt-40000\n"
     ]
    },
    {
     "ename": "KeyboardInterrupt",
     "evalue": "",
     "output_type": "error",
     "traceback": [
      "\u001b[1;31m---------------------------------------------------------------------------\u001b[0m",
      "\u001b[1;31mKeyboardInterrupt\u001b[0m                         Traceback (most recent call last)",
      "\u001b[1;32m<ipython-input-29-eefe6897511e>\u001b[0m in \u001b[0;36m<module>\u001b[1;34m()\u001b[0m\n\u001b[0;32m      6\u001b[0m \u001b[1;32mfor\u001b[0m \u001b[0mi\u001b[0m \u001b[1;32min\u001b[0m \u001b[0mrange\u001b[0m\u001b[1;33m(\u001b[0m\u001b[0miterations\u001b[0m\u001b[1;33m)\u001b[0m\u001b[1;33m:\u001b[0m\u001b[1;33m\u001b[0m\u001b[0m\n\u001b[0;32m      7\u001b[0m     \u001b[0mnextBatch\u001b[0m\u001b[1;33m,\u001b[0m \u001b[0mnextBatchLabels\u001b[0m \u001b[1;33m=\u001b[0m \u001b[0mgetTrainBatch\u001b[0m\u001b[1;33m(\u001b[0m\u001b[1;33m)\u001b[0m\u001b[1;33m;\u001b[0m\u001b[1;33m\u001b[0m\u001b[0m\n\u001b[1;32m----> 8\u001b[1;33m     \u001b[0mlos\u001b[0m\u001b[1;33m,\u001b[0m \u001b[0macc\u001b[0m\u001b[1;33m,\u001b[0m \u001b[0m_\u001b[0m \u001b[1;33m=\u001b[0m \u001b[0msess\u001b[0m\u001b[1;33m.\u001b[0m\u001b[0mrun\u001b[0m\u001b[1;33m(\u001b[0m\u001b[1;33m[\u001b[0m\u001b[0mloss\u001b[0m\u001b[1;33m,\u001b[0m \u001b[0maccuracy\u001b[0m\u001b[1;33m,\u001b[0m \u001b[0moptimizer\u001b[0m\u001b[1;33m]\u001b[0m\u001b[1;33m,\u001b[0m \u001b[1;33m{\u001b[0m\u001b[0minput_data\u001b[0m\u001b[1;33m:\u001b[0m \u001b[0mnextBatch\u001b[0m\u001b[1;33m,\u001b[0m \u001b[0mlabels\u001b[0m\u001b[1;33m:\u001b[0m \u001b[0mnextBatchLabels\u001b[0m\u001b[1;33m,\u001b[0m \u001b[0mkeep_prob\u001b[0m\u001b[1;33m:\u001b[0m \u001b[1;36m0.6\u001b[0m\u001b[1;33m}\u001b[0m\u001b[1;33m)\u001b[0m\u001b[1;33m\u001b[0m\u001b[0m\n\u001b[0m\u001b[0;32m      9\u001b[0m \u001b[1;33m\u001b[0m\u001b[0m\n\u001b[0;32m     10\u001b[0m \u001b[1;33m\u001b[0m\u001b[0m\n",
      "\u001b[1;32m~\\Anaconda3\\lib\\site-packages\\tensorflow\\python\\client\\session.py\u001b[0m in \u001b[0;36mrun\u001b[1;34m(self, fetches, feed_dict, options, run_metadata)\u001b[0m\n\u001b[0;32m    776\u001b[0m     \u001b[1;32mtry\u001b[0m\u001b[1;33m:\u001b[0m\u001b[1;33m\u001b[0m\u001b[0m\n\u001b[0;32m    777\u001b[0m       result = self._run(None, fetches, feed_dict, options_ptr,\n\u001b[1;32m--> 778\u001b[1;33m                          run_metadata_ptr)\n\u001b[0m\u001b[0;32m    779\u001b[0m       \u001b[1;32mif\u001b[0m \u001b[0mrun_metadata\u001b[0m\u001b[1;33m:\u001b[0m\u001b[1;33m\u001b[0m\u001b[0m\n\u001b[0;32m    780\u001b[0m         \u001b[0mproto_data\u001b[0m \u001b[1;33m=\u001b[0m \u001b[0mtf_session\u001b[0m\u001b[1;33m.\u001b[0m\u001b[0mTF_GetBuffer\u001b[0m\u001b[1;33m(\u001b[0m\u001b[0mrun_metadata_ptr\u001b[0m\u001b[1;33m)\u001b[0m\u001b[1;33m\u001b[0m\u001b[0m\n",
      "\u001b[1;32m~\\Anaconda3\\lib\\site-packages\\tensorflow\\python\\client\\session.py\u001b[0m in \u001b[0;36m_run\u001b[1;34m(self, handle, fetches, feed_dict, options, run_metadata)\u001b[0m\n\u001b[0;32m    980\u001b[0m     \u001b[1;32mif\u001b[0m \u001b[0mfinal_fetches\u001b[0m \u001b[1;32mor\u001b[0m \u001b[0mfinal_targets\u001b[0m\u001b[1;33m:\u001b[0m\u001b[1;33m\u001b[0m\u001b[0m\n\u001b[0;32m    981\u001b[0m       results = self._do_run(handle, final_targets, final_fetches,\n\u001b[1;32m--> 982\u001b[1;33m                              feed_dict_string, options, run_metadata)\n\u001b[0m\u001b[0;32m    983\u001b[0m     \u001b[1;32melse\u001b[0m\u001b[1;33m:\u001b[0m\u001b[1;33m\u001b[0m\u001b[0m\n\u001b[0;32m    984\u001b[0m       \u001b[0mresults\u001b[0m \u001b[1;33m=\u001b[0m \u001b[1;33m[\u001b[0m\u001b[1;33m]\u001b[0m\u001b[1;33m\u001b[0m\u001b[0m\n",
      "\u001b[1;32m~\\Anaconda3\\lib\\site-packages\\tensorflow\\python\\client\\session.py\u001b[0m in \u001b[0;36m_do_run\u001b[1;34m(self, handle, target_list, fetch_list, feed_dict, options, run_metadata)\u001b[0m\n\u001b[0;32m   1030\u001b[0m     \u001b[1;32mif\u001b[0m \u001b[0mhandle\u001b[0m \u001b[1;32mis\u001b[0m \u001b[1;32mNone\u001b[0m\u001b[1;33m:\u001b[0m\u001b[1;33m\u001b[0m\u001b[0m\n\u001b[0;32m   1031\u001b[0m       return self._do_call(_run_fn, self._session, feed_dict, fetch_list,\n\u001b[1;32m-> 1032\u001b[1;33m                            target_list, options, run_metadata)\n\u001b[0m\u001b[0;32m   1033\u001b[0m     \u001b[1;32melse\u001b[0m\u001b[1;33m:\u001b[0m\u001b[1;33m\u001b[0m\u001b[0m\n\u001b[0;32m   1034\u001b[0m       return self._do_call(_prun_fn, self._session, handle, feed_dict,\n",
      "\u001b[1;32m~\\Anaconda3\\lib\\site-packages\\tensorflow\\python\\client\\session.py\u001b[0m in \u001b[0;36m_do_call\u001b[1;34m(self, fn, *args)\u001b[0m\n\u001b[0;32m   1037\u001b[0m   \u001b[1;32mdef\u001b[0m \u001b[0m_do_call\u001b[0m\u001b[1;33m(\u001b[0m\u001b[0mself\u001b[0m\u001b[1;33m,\u001b[0m \u001b[0mfn\u001b[0m\u001b[1;33m,\u001b[0m \u001b[1;33m*\u001b[0m\u001b[0margs\u001b[0m\u001b[1;33m)\u001b[0m\u001b[1;33m:\u001b[0m\u001b[1;33m\u001b[0m\u001b[0m\n\u001b[0;32m   1038\u001b[0m     \u001b[1;32mtry\u001b[0m\u001b[1;33m:\u001b[0m\u001b[1;33m\u001b[0m\u001b[0m\n\u001b[1;32m-> 1039\u001b[1;33m       \u001b[1;32mreturn\u001b[0m \u001b[0mfn\u001b[0m\u001b[1;33m(\u001b[0m\u001b[1;33m*\u001b[0m\u001b[0margs\u001b[0m\u001b[1;33m)\u001b[0m\u001b[1;33m\u001b[0m\u001b[0m\n\u001b[0m\u001b[0;32m   1040\u001b[0m     \u001b[1;32mexcept\u001b[0m \u001b[0merrors\u001b[0m\u001b[1;33m.\u001b[0m\u001b[0mOpError\u001b[0m \u001b[1;32mas\u001b[0m \u001b[0me\u001b[0m\u001b[1;33m:\u001b[0m\u001b[1;33m\u001b[0m\u001b[0m\n\u001b[0;32m   1041\u001b[0m       \u001b[0mmessage\u001b[0m \u001b[1;33m=\u001b[0m \u001b[0mcompat\u001b[0m\u001b[1;33m.\u001b[0m\u001b[0mas_text\u001b[0m\u001b[1;33m(\u001b[0m\u001b[0me\u001b[0m\u001b[1;33m.\u001b[0m\u001b[0mmessage\u001b[0m\u001b[1;33m)\u001b[0m\u001b[1;33m\u001b[0m\u001b[0m\n",
      "\u001b[1;32m~\\Anaconda3\\lib\\site-packages\\tensorflow\\python\\client\\session.py\u001b[0m in \u001b[0;36m_run_fn\u001b[1;34m(session, feed_dict, fetch_list, target_list, options, run_metadata)\u001b[0m\n\u001b[0;32m   1019\u001b[0m         return tf_session.TF_Run(session, options,\n\u001b[0;32m   1020\u001b[0m                                  \u001b[0mfeed_dict\u001b[0m\u001b[1;33m,\u001b[0m \u001b[0mfetch_list\u001b[0m\u001b[1;33m,\u001b[0m \u001b[0mtarget_list\u001b[0m\u001b[1;33m,\u001b[0m\u001b[1;33m\u001b[0m\u001b[0m\n\u001b[1;32m-> 1021\u001b[1;33m                                  status, run_metadata)\n\u001b[0m\u001b[0;32m   1022\u001b[0m \u001b[1;33m\u001b[0m\u001b[0m\n\u001b[0;32m   1023\u001b[0m     \u001b[1;32mdef\u001b[0m \u001b[0m_prun_fn\u001b[0m\u001b[1;33m(\u001b[0m\u001b[0msession\u001b[0m\u001b[1;33m,\u001b[0m \u001b[0mhandle\u001b[0m\u001b[1;33m,\u001b[0m \u001b[0mfeed_dict\u001b[0m\u001b[1;33m,\u001b[0m \u001b[0mfetch_list\u001b[0m\u001b[1;33m)\u001b[0m\u001b[1;33m:\u001b[0m\u001b[1;33m\u001b[0m\u001b[0m\n",
      "\u001b[1;31mKeyboardInterrupt\u001b[0m: "
     ]
    }
   ],
   "source": [
    "sess = tf.Session()\n",
    "saver = tf.train.Saver()\n",
    "writer = tf.summary.FileWriter(logdir, sess.graph)\n",
    "sess.run(tf.global_variables_initializer())\n",
    "\n",
    "for i in range(iterations):\n",
    "    nextBatch, nextBatchLabels = getTrainBatch();\n",
    "    los, acc, _ = sess.run([loss, accuracy, optimizer], {input_data: nextBatch, labels: nextBatchLabels, keep_prob: 0.6})\n",
    "    \n",
    "    \n",
    "    if (i % 5000 == 0):\n",
    "        print('Train', i, ':', los, ',', acc)\n",
    "        \n",
    "    if (i % 10000 == 0):\n",
    "        nextBatch, nextBatchLabels = getTestBatch()\n",
    "        los, acc, _ = sess.run([loss, accuracy, optimizer], {input_data: nextBatch, labels: nextBatchLabels, keep_prob: 1.0})\n",
    "        print('Test', i, ':', los, ',', acc)\n",
    "        \n",
    "    #Write summary to Tensorboard\n",
    "    if (i % 50 == 0):\n",
    "        train_s = sess.run(train_sum, {input_data: nextBatch, labels: nextBatchLabels, keep_prob: 1.0})\n",
    "        writer.add_summary(train_s, i)\n",
    "\n",
    "        nextBatch, nextBatchLabels = getTestBatch()\n",
    "        test_s = sess.run(test_sum, {input_data: nextBatch, labels: nextBatchLabels, keep_prob: 1.0})\n",
    "        writer.add_summary(test_s, i)\n",
    "        \n",
    "    #Save the network every 10,000 training iterations\n",
    "    if (i % 10000 == 0 and i != 0):\n",
    "        save_path = saver.save(sess, \"models/\" + csv_filename + \".ckpt\", global_step=i)\n",
    "        print(\"saved to %s\" % save_path)\n",
    "        \n",
    "writer.close()"
   ]
  },
  {
   "cell_type": "code",
   "execution_count": null,
   "metadata": {
    "collapsed": true
   },
   "outputs": [],
   "source": [
    "import pandas as pd\n",
    "\n",
    "nextBatch, nextBatchLabels = getTestBatch();\n",
    "pred, _ = sess.run([prediction, optimizer], {input_data: nextBatch, labels: nextBatchLabels, keep_prob: 1.0})\n",
    "print(np.mean(np.argmax(nextBatchLabels, 1) == np.argmax(pred, 1)))\n",
    "print(pd.DataFrame({\n",
    "    'label' : np.argmax(nextBatchLabels, 1),\n",
    "    'pred'  : np.argmax(pred, 1)\n",
    "}))"
   ]
  },
  {
   "cell_type": "code",
   "execution_count": null,
   "metadata": {
    "collapsed": true
   },
   "outputs": [],
   "source": []
  },
  {
   "cell_type": "code",
   "execution_count": null,
   "metadata": {
    "collapsed": true
   },
   "outputs": [],
   "source": []
  },
  {
   "cell_type": "code",
   "execution_count": null,
   "metadata": {
    "collapsed": true
   },
   "outputs": [],
   "source": []
  },
  {
   "cell_type": "code",
   "execution_count": null,
   "metadata": {
    "collapsed": true
   },
   "outputs": [],
   "source": []
  },
  {
   "cell_type": "code",
   "execution_count": null,
   "metadata": {
    "collapsed": true
   },
   "outputs": [],
   "source": []
  },
  {
   "cell_type": "code",
   "execution_count": null,
   "metadata": {
    "collapsed": true
   },
   "outputs": [],
   "source": []
  },
  {
   "cell_type": "code",
   "execution_count": null,
   "metadata": {
    "collapsed": true
   },
   "outputs": [],
   "source": []
  },
  {
   "cell_type": "code",
   "execution_count": null,
   "metadata": {
    "collapsed": true
   },
   "outputs": [],
   "source": []
  },
  {
   "cell_type": "code",
   "execution_count": null,
   "metadata": {
    "collapsed": true
   },
   "outputs": [],
   "source": []
  },
  {
   "cell_type": "code",
   "execution_count": null,
   "metadata": {
    "collapsed": true
   },
   "outputs": [],
   "source": []
  }
 ],
 "metadata": {
  "kernelspec": {
   "display_name": "Python 3",
   "language": "python",
   "name": "python3"
  },
  "language_info": {
   "codemirror_mode": {
    "name": "ipython",
    "version": 3
   },
   "file_extension": ".py",
   "mimetype": "text/x-python",
   "name": "python",
   "nbconvert_exporter": "python",
   "pygments_lexer": "ipython3",
   "version": "3.6.2"
  }
 },
 "nbformat": 4,
 "nbformat_minor": 2
}
