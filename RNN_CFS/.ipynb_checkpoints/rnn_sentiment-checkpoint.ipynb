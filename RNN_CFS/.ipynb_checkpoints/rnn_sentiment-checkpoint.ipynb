{
 "cells": [
  {
   "cell_type": "code",
   "execution_count": null,
   "metadata": {},
   "outputs": [],
   "source": [
    "\"\"\"\n",
    "This block generates the train/test dataset.\n",
    "\n",
    "[seg_id, text, sentiment] # text is replace with vocabulary ids\n",
    "\"\"\"\n",
    "\n",
    "import os\n",
    "import csv\n",
    "\n",
    "train_ratio = 0.8\n",
    "\n",
    "files = os.listdir('./Segmented/')\n",
    "train_files = [f.split('.')[0] for f in files[:int(len(files) * train_ratio)]]\n",
    "test_files = [f.split('.')[0] for f in files[int(len(files) * train_ratio):]]\n",
    "\n",
    "sentiment_dict = {}\n",
    "with open('../processed_labels_no_criteria.csv', newline='') as csvfile:\n",
    "    reader = csv.reader(csvfile, delimiter=',')\n",
    "    for row in reader:\n",
    "        sentiment_dict[row[0]] = int(row[1])\n",
    "        \n",
    "train_data = []\n",
    "test_data = []\n",
    "\n",
    "for f in train_files:\n",
    "    with open('./Segmented/' + f + '.annotprocessed', 'r') as s:\n",
    "        for row in s:\n",
    "            row = row.split('_DELIM_')\n",
    "            seg_id = f + '_' + row[0]\n",
    "            text = [voc_ids[w] for w in row[1]]\n",
    "            train_data.append([seg_id, text, sentiment_dict[seg_id]])\n",
    "            \n",
    "for f in test_files:\n",
    "    with open('./Segmented/' + f + '.annotprocessed', 'r') as s:\n",
    "        for row in s:\n",
    "            row = row.split('_DELIM_')\n",
    "            seg_id = f + '_' + row[0]\n",
    "            test_data.append([seg_id, row[1], sentiment_dict[seg_id]])"
   ]
  },
  {
   "cell_type": "code",
   "execution_count": null,
   "metadata": {},
   "outputs": [],
   "source": [
    "\"\"\"\n",
    "Defines helper functions for getting batches\n",
    "\"\"\"\n",
    "import numpy as np\n",
    "from random import randint\n",
    "\n",
    "\n",
    "batchSize = 64\n",
    "maxSeqLength = 20\n",
    "\n",
    "\n",
    "def getTrainBatch():\n",
    "    labels = []\n",
    "    arr = np.zeros([batchSize, maxSeqLength])\n",
    "    for i in range(batchSize):\n",
    "        if (i % 2 == 0): \n",
    "            num = randint(1,11499)\n",
    "            labels.append([1,0])\n",
    "        else:\n",
    "            num = randint(13499,24999)\n",
    "            labels.append([0,1])\n",
    "        arr[i] = ids[num-1:num]\n",
    "    return arr, labels\n",
    "\n",
    "def getTestBatch():\n",
    "    labels = []\n",
    "    arr = np.zeros([batchSize, maxSeqLength])\n",
    "    for i in range(batchSize):\n",
    "        num = randint(11499,13499)\n",
    "        if (num <= 12499):\n",
    "            labels.append([1,0])\n",
    "        else:\n",
    "            labels.append([0,1])\n",
    "        arr[i] = ids[num-1:num]\n",
    "    return arr, labels"
   ]
  },
  {
   "cell_type": "code",
   "execution_count": 20,
   "metadata": {},
   "outputs": [
    {
     "name": "stdout",
     "output_type": "stream",
     "text": [
      "{}\n"
     ]
    }
   ],
   "source": [
    "voc_ids = {}\n",
    "voc_ids_rev = {}\n",
    "\n",
    "with open('./LanguageVocabulary.txt', 'r') as f:\n",
    "#     data = f.read()\n",
    "    for row in f:\n",
    "        print(row)\n",
    "        row = row.split(' ')\n",
    "        if len(row) < 3:\n",
    "            continue\n",
    "        k = row[0]\n",
    "        v = row[1]\n",
    "        voc_ids[k] = v\n",
    "        voc_ids_rev[v] = k\n",
    "\n",
    "print(voc_ids)"
   ]
  },
  {
   "cell_type": "code",
   "execution_count": null,
   "metadata": {
    "collapsed": true
   },
   "outputs": [],
   "source": []
  }
 ],
 "metadata": {
  "kernelspec": {
   "display_name": "Python 3",
   "language": "python",
   "name": "python3"
  },
  "language_info": {
   "codemirror_mode": {
    "name": "ipython",
    "version": 3
   },
   "file_extension": ".py",
   "mimetype": "text/x-python",
   "name": "python",
   "nbconvert_exporter": "python",
   "pygments_lexer": "ipython3",
   "version": "3.6.2"
  }
 },
 "nbformat": 4,
 "nbformat_minor": 2
}
